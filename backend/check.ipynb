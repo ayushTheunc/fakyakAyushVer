{
 "cells": [
  {
   "cell_type": "code",
   "execution_count": 2,
   "metadata": {},
   "outputs": [],
   "source": [
    "%load_ext sql"
   ]
  },
  {
   "cell_type": "code",
   "execution_count": 3,
   "metadata": {},
   "outputs": [],
   "source": [
    "%sql sqlite:////Users/ayushpai/COMP421/fakyak/backend/fakyakData.db"
   ]
  },
  {
   "cell_type": "code",
   "execution_count": 4,
   "metadata": {},
   "outputs": [
    {
     "name": "stdout",
     "output_type": "stream",
     "text": [
      " * sqlite:////Users/ayushpai/COMP421/fakyak/backend/fakyakData.db\n",
      "Done.\n"
     ]
    },
    {
     "data": {
      "text/plain": [
       "[]"
      ]
     },
     "execution_count": 4,
     "metadata": {},
     "output_type": "execute_result"
    }
   ],
   "source": [
    "%%sql\n",
    "\n",
    "CREATE TABLE IF NOT EXISTS Users (\n",
    "    UserID INT PRIMARY KEY,\n",
    "    Username VARCHAR(50) UNIQUE NOT NULL,\n",
    "    Password VARCHAR(255) UNIQUE NOT NULL,\n",
    "    Email VARCHAR(100) UNIQUE NOT NULL,\n",
    "    CreatedAt TIMESTAMP DEFAULT CURRENT_TIMESTAMP,\n",
    "    CHECK (LENGTH(Username) >= 3),\n",
    "    CHECK (LENGTH(Password) >= 8),\n",
    "    UNIQUE (Username, Password, Email)\n",
    ")\n"
   ]
  },
  {
   "cell_type": "code",
   "execution_count": 10,
   "metadata": {},
   "outputs": [
    {
     "name": "stdout",
     "output_type": "stream",
     "text": [
      " * sqlite:////Users/ayushpai/COMP421/fakyak/backend/fakyakData.db\n",
      "Done.\n"
     ]
    },
    {
     "data": {
      "text/plain": [
       "[]"
      ]
     },
     "execution_count": 10,
     "metadata": {},
     "output_type": "execute_result"
    }
   ],
   "source": [
    "%%sql\n",
    "\n",
    "CREATE TABLE IF NOT EXISTS Posts (\n",
    "    PostID INT PRIMARY KEY,\n",
    "    UserID INT NOT NULL,\n",
    "    Content TEXT NOT NULL,\n",
    "    CreatedAt TIMESTAMP DEFAULT CURRENT_TIMESTAMP,\n",
    "    CHECK (LENGTH(Content) > 0),\n",
    "    CHECK (LENGTH(Content) <= 500),\n",
    "    FOREIGN KEY (UserID) REFERENCES Users(UserID) ON DELETE CASCADE\n",
    ")"
   ]
  },
  {
   "cell_type": "code",
   "execution_count": 11,
   "metadata": {},
   "outputs": [
    {
     "name": "stdout",
     "output_type": "stream",
     "text": [
      " * sqlite:////Users/ayushpai/COMP421/fakyak/backend/fakyakData.db\n",
      "Done.\n"
     ]
    },
    {
     "data": {
      "text/plain": [
       "[]"
      ]
     },
     "execution_count": 11,
     "metadata": {},
     "output_type": "execute_result"
    }
   ],
   "source": [
    "%%sql\n",
    "\n",
    "CREATE TABLE IF NOT EXISTS PostMetrics (\n",
    "    PostMetricID INT PRIMARY KEY,\n",
    "    PostID INT UNIQUE NOT NULL,\n",
    "    LikeCount INT DEFAULT 0,\n",
    "    ShareCount INT DEFAULT 0,\n",
    "    LastUpdatedAt TIMESTAMP DEFAULT CURRENT_TIMESTAMP,\n",
    "    CHECK (LikeCount >= 0),\n",
    "    CHECK (ShareCount >= 0),\n",
    "    FOREIGN KEY (PostID) REFERENCES Posts(PostID) ON DELETE CASCADE\n",
    ")"
   ]
  },
  {
   "cell_type": "code",
   "execution_count": null,
   "metadata": {},
   "outputs": [
    {
     "name": "stdout",
     "output_type": "stream",
     "text": [
      " * sqlite:////Users/ayushpai/COMP421/fakyak/backend/fakyakData.db\n",
      "(sqlite3.OperationalError) near \"uniqueKey\": syntax error\n",
      "[SQL: CREATE TABLE IF NOT EXISTS Likes (\n",
      "    PostID INT NOT NULL,\n",
      "    UserID INT NOT NULL,\n",
      "    CreatedAt TIMESTAMP DEFAULT CURRENT_TIMESTAMP,\n",
      "    FOREIGN KEY (PostID) REFERENCES Posts(PostID) ON DELETE CASCADE,\n",
      "    FOREIGN KEY (UserID) REFERENCES Users(UserID) ON DELETE CASCADE,\n",
      "    PRIMARY KEY uniqueKey (PostID, UserID)\n",
      ");]\n",
      "(Background on this error at: https://sqlalche.me/e/20/e3q8)\n"
     ]
    }
   ],
   "source": [
    "%%sql\n",
    "\n",
    "CREATE TABLE IF NOT EXISTS Likes (\n",
    "    PostID INT NOT NULL,\n",
    "    UserID INT NOT NULL,\n",
    "    CreatedAt TIMESTAMP DEFAULT CURRENT_TIMESTAMP,\n",
    "    FOREIGN KEY (PostID) REFERENCES Posts(PostID) ON DELETE CASCADE,\n",
    "    FOREIGN KEY (UserID) REFERENCES Users(UserID) ON DELETE CASCADE,\n",
    "    PRIMARY KEY (PostID, UserID)\n",
    ");"
   ]
  },
  {
   "cell_type": "code",
   "execution_count": 19,
   "metadata": {},
   "outputs": [
    {
     "name": "stdout",
     "output_type": "stream",
     "text": [
      " * sqlite:////Users/ayushpai/COMP421/fakyak/backend/fakyakData.db\n",
      "Done.\n"
     ]
    },
    {
     "data": {
      "text/plain": [
       "[]"
      ]
     },
     "execution_count": 19,
     "metadata": {},
     "output_type": "execute_result"
    }
   ],
   "source": [
    "%%sql\n",
    "\n",
    "\n",
    "CREATE TABLE IF NOT EXISTS Shares (\n",
    "    ShareID INT PRIMARY KEY,\n",
    "    PostID INT NOT NULL,\n",
    "    FromUserID INT NOT NULL,\n",
    "    ToUserID INT NOT NULL,\n",
    "    CreatedAt TIMESTAMP DEFAULT CURRENT_TIMESTAMP,\n",
    "    CHECK (FromUserID != ToUserID),\n",
    "    FOREIGN KEY (PostID) REFERENCES Posts(PostID) ON DELETE CASCADE,\n",
    "    FOREIGN KEY (FromUserID) REFERENCES Users(UserID) ON DELETE CASCADE,\n",
    "    FOREIGN KEY (ToUserID) REFERENCES Users(UserID) ON DELETE CASCADE\n",
    ")"
   ]
  },
  {
   "cell_type": "code",
   "execution_count": 4,
   "metadata": {},
   "outputs": [
    {
     "name": "stdout",
     "output_type": "stream",
     "text": [
      " * sqlite:////Users/ayushpai/COMP421/fakyak/backend/fakyakData.db\n",
      "Done.\n"
     ]
    },
    {
     "data": {
      "text/html": [
       "<table>\n",
       "    <thead>\n",
       "        <tr>\n",
       "            <th>UserID</th>\n",
       "            <th>Username</th>\n",
       "            <th>Password</th>\n",
       "            <th>Email</th>\n",
       "            <th>CreatedAt</th>\n",
       "        </tr>\n",
       "    </thead>\n",
       "    <tbody>\n",
       "    </tbody>\n",
       "</table>"
      ],
      "text/plain": [
       "[]"
      ]
     },
     "execution_count": 4,
     "metadata": {},
     "output_type": "execute_result"
    }
   ],
   "source": [
    "%%sql\n",
    "\n",
    "select * from users"
   ]
  },
  {
   "cell_type": "code",
   "execution_count": 4,
   "metadata": {},
   "outputs": [
    {
     "name": "stdout",
     "output_type": "stream",
     "text": [
      " * sqlite:////Users/ayushpai/COMP421/fakyak/backend/fakyakData.db\n",
      "5 rows affected.\n"
     ]
    },
    {
     "data": {
      "text/plain": [
       "[]"
      ]
     },
     "execution_count": 4,
     "metadata": {},
     "output_type": "execute_result"
    }
   ],
   "source": [
    "%%sql\n",
    "\n",
    "DELETE FROM USERS where 1=1"
   ]
  },
  {
   "cell_type": "code",
   "execution_count": null,
   "metadata": {},
   "outputs": [
    {
     "name": "stdout",
     "output_type": "stream",
     "text": [
      " * sqlite:////Users/ayushpai/COMP421/fakyak/backend/fakyakData.db\n",
      "Done.\n"
     ]
    },
    {
     "data": {
      "text/html": [
       "<table>\n",
       "    <thead>\n",
       "        <tr>\n",
       "            <th>UserID</th>\n",
       "            <th>Username</th>\n",
       "            <th>Password</th>\n",
       "            <th>Email</th>\n",
       "            <th>CreatedAt</th>\n",
       "            <th>PostID</th>\n",
       "            <th>UserID_1</th>\n",
       "            <th>Content</th>\n",
       "            <th>CreatedAt_1</th>\n",
       "        </tr>\n",
       "    </thead>\n",
       "    <tbody>\n",
       "        <tr>\n",
       "            <td>0</td>\n",
       "            <td>apai4159</td>\n",
       "            <td>#StriveToThrive</td>\n",
       "            <td>apai4159@gmail.com</td>\n",
       "            <td>11/29/2024, 4:43:19 PM</td>\n",
       "            <td>None</td>\n",
       "            <td>None</td>\n",
       "            <td>None</td>\n",
       "            <td>None</td>\n",
       "        </tr>\n",
       "    </tbody>\n",
       "</table>"
      ],
      "text/plain": [
       "[(0, 'apai4159', '#StriveToThrive', 'apai4159@gmail.com', '11/29/2024, 4:43:19 PM', None, None, None, None)]"
      ]
     },
     "execution_count": 25,
     "metadata": {},
     "output_type": "execute_result"
    }
   ],
   "source": [
    "%%sql\n",
    "\n",
    "SELECT * FROM Users U LEFT OUTER JOIN Posts P ON U.UserID=P.UserId where U.UserID = 0"
   ]
  },
  {
   "cell_type": "code",
   "execution_count": 8,
   "metadata": {},
   "outputs": [
    {
     "name": "stdout",
     "output_type": "stream",
     "text": [
      " * sqlite:////Users/ayushpai/COMP421/fakyak/backend/fakyakData.db\n",
      "Done.\n"
     ]
    },
    {
     "data": {
      "text/html": [
       "<table>\n",
       "    <thead>\n",
       "        <tr>\n",
       "            <th>PostID</th>\n",
       "            <th>UserID</th>\n",
       "            <th>Content</th>\n",
       "            <th>CreatedAt</th>\n",
       "            <th>UserID_1</th>\n",
       "            <th>Username</th>\n",
       "            <th>Password</th>\n",
       "            <th>Email</th>\n",
       "            <th>CreatedAt_1</th>\n",
       "        </tr>\n",
       "    </thead>\n",
       "    <tbody>\n",
       "        <tr>\n",
       "            <td>0</td>\n",
       "            <td>0</td>\n",
       "            <td>Hello, this is my first post!</td>\n",
       "            <td>11/30/2024, 4:28:59 PM</td>\n",
       "            <td>0</td>\n",
       "            <td>apai4159</td>\n",
       "            <td>#StriveToThrive</td>\n",
       "            <td>apai4159@gmail.com</td>\n",
       "            <td>11/29/2024, 4:43:19 PM</td>\n",
       "        </tr>\n",
       "        <tr>\n",
       "            <td>1</td>\n",
       "            <td>0</td>\n",
       "            <td>This is my second post baby!</td>\n",
       "            <td>11/30/2024, 4:38:19 PM</td>\n",
       "            <td>0</td>\n",
       "            <td>apai4159</td>\n",
       "            <td>#StriveToThrive</td>\n",
       "            <td>apai4159@gmail.com</td>\n",
       "            <td>11/29/2024, 4:43:19 PM</td>\n",
       "        </tr>\n",
       "    </tbody>\n",
       "</table>"
      ],
      "text/plain": [
       "[(0, 0, 'Hello, this is my first post!', '11/30/2024, 4:28:59 PM', 0, 'apai4159', '#StriveToThrive', 'apai4159@gmail.com', '11/29/2024, 4:43:19 PM'),\n",
       " (1, 0, 'This is my second post baby!', '11/30/2024, 4:38:19 PM', 0, 'apai4159', '#StriveToThrive', 'apai4159@gmail.com', '11/29/2024, 4:43:19 PM')]"
      ]
     },
     "execution_count": 8,
     "metadata": {},
     "output_type": "execute_result"
    }
   ],
   "source": [
    "%%sql\n",
    "\n",
    "\n",
    "SELECT * from Posts, Users where Users.UserID = Posts.UserID"
   ]
  },
  {
   "cell_type": "code",
   "execution_count": 10,
   "metadata": {},
   "outputs": [
    {
     "name": "stdout",
     "output_type": "stream",
     "text": [
      " * sqlite:////Users/ayushpai/COMP421/fakyak/backend/fakyakData.db\n",
      "1 rows affected.\n"
     ]
    },
    {
     "data": {
      "text/plain": [
       "[]"
      ]
     },
     "execution_count": 10,
     "metadata": {},
     "output_type": "execute_result"
    }
   ],
   "source": [
    "%%sql\n",
    "\n",
    "\n",
    "DELETE FROM Posts where Posts.PostID = 0"
   ]
  },
  {
   "cell_type": "code",
   "execution_count": 15,
   "metadata": {},
   "outputs": [
    {
     "name": "stdout",
     "output_type": "stream",
     "text": [
      " * sqlite:////Users/ayushpai/COMP421/fakyak/backend/fakyakData.db\n",
      "1 rows affected.\n"
     ]
    },
    {
     "data": {
      "text/plain": [
       "[]"
      ]
     },
     "execution_count": 15,
     "metadata": {},
     "output_type": "execute_result"
    }
   ],
   "source": [
    "%%sql\n",
    "\n",
    "UPDATE Posts SET Content = \"I was just updated by check.py\" WHERE Posts.UserID = 0 and Posts.PostID = 0"
   ]
  },
  {
   "cell_type": "code",
   "execution_count": null,
   "metadata": {},
   "outputs": [],
   "source": []
  }
 ],
 "metadata": {
  "kernelspec": {
   "display_name": "base",
   "language": "python",
   "name": "python3"
  },
  "language_info": {
   "codemirror_mode": {
    "name": "ipython",
    "version": 3
   },
   "file_extension": ".py",
   "mimetype": "text/x-python",
   "name": "python",
   "nbconvert_exporter": "python",
   "pygments_lexer": "ipython3",
   "version": "3.11.5"
  }
 },
 "nbformat": 4,
 "nbformat_minor": 2
}
